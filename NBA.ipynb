{
 "metadata": {
  "language_info": {
   "codemirror_mode": {
    "name": "ipython",
    "version": 3
   },
   "file_extension": ".py",
   "mimetype": "text/x-python",
   "name": "python",
   "nbconvert_exporter": "python",
   "pygments_lexer": "ipython3",
   "version": "3.7.6-final"
  },
  "orig_nbformat": 2,
  "kernelspec": {
   "name": "Python 3.7.6 64-bit ('base': conda)",
   "display_name": "Python 3.7.6 64-bit ('base': conda)",
   "metadata": {
    "interpreter": {
     "hash": "68f43b21962ca07ddab01fd3e10a215848fbf81c84653e1392a31aa0d821b77a"
    }
   }
  }
 },
 "nbformat": 4,
 "nbformat_minor": 2,
 "cells": [
  {
   "source": [
    "# Python Script for NBA Players data\n",
    "### Alexander Williamson and Brenton Wilder\n",
    "### Fall Semester 2020"
   ],
   "cell_type": "markdown",
   "metadata": {}
  },
  {
   "cell_type": "code",
   "execution_count": 128,
   "metadata": {},
   "outputs": [
    {
     "output_type": "stream",
     "name": "stdout",
     "text": [
      "   Unnamed: 0           Player  height  weight  \\\n0           0  Curly Armstrong   180.0    77.0   \n1           1     Cliff Barker   188.0    83.0   \n2           2    Leo Barnhorst   193.0    86.0   \n3           3       Ed Bartels   196.0    88.0   \n4           4      Ralph Beard   178.0    79.0   \n\n                           collage    born   birth_city birth_state  \n0               Indiana University  1918.0          NaN         NaN  \n1           University of Kentucky  1921.0     Yorktown     Indiana  \n2         University of Notre Dame  1924.0          NaN         NaN  \n3  North Carolina State University  1925.0          NaN         NaN  \n4           University of Kentucky  1927.0  Hardinsburg    Kentucky  \n"
     ]
    }
   ],
   "source": [
    "# Load the dataset directly from repository\n",
    "import pandas as pd\n",
    "\n",
    "url = 'https://github.com/bwilder95/NBAplayers/blob/main/Players.csv?raw=true'\n",
    "df = pd.read_csv(url,sep=',')\n",
    "print(df.head())"
   ]
  },
  {
   "cell_type": "code",
   "execution_count": 129,
   "metadata": {},
   "outputs": [
    {
     "output_type": "execute_result",
     "data": {
      "text/plain": [
       "(3922, 8)"
      ]
     },
     "metadata": {},
     "execution_count": 129
    }
   ],
   "source": [
    "# Confirm shape of dataset is correct (3922 rows and 8 columns)\n",
    "\"\"\"\n",
    "Column 1 (index 0) is unamed\n",
    "Column 2 (index 1) is Player\n",
    "Column 3 (index 2) is collage\n",
    "Column 4 (index 3) is height\n",
    "Column 5 (index 4) is weight\n",
    "Column 6 (index 5) is born\n",
    "Column 7 (index 6) is birth_city\n",
    "Column 8 (index 7) is birth_state\n",
    "\"\"\"\n",
    "df.shape"
   ]
  },
  {
   "source": [
    "## Task 0: Explore names of NBA players"
   ],
   "cell_type": "markdown",
   "metadata": {}
  },
  {
   "cell_type": "code",
   "execution_count": 130,
   "metadata": {},
   "outputs": [
    {
     "output_type": "execute_result",
     "data": {
      "text/plain": [
       "      Unnamed: 0         Player  height  weight                     collage  \\\n",
       "3491        3491  Kawhi Leonard   201.0   104.0  San Diego State University   \n",
       "\n",
       "        born   birth_city birth_state  \n",
       "3491  1991.0  Los Angeles  California  "
      ],
      "text/html": "<div>\n<style scoped>\n    .dataframe tbody tr th:only-of-type {\n        vertical-align: middle;\n    }\n\n    .dataframe tbody tr th {\n        vertical-align: top;\n    }\n\n    .dataframe thead th {\n        text-align: right;\n    }\n</style>\n<table border=\"1\" class=\"dataframe\">\n  <thead>\n    <tr style=\"text-align: right;\">\n      <th></th>\n      <th>Unnamed: 0</th>\n      <th>Player</th>\n      <th>height</th>\n      <th>weight</th>\n      <th>collage</th>\n      <th>born</th>\n      <th>birth_city</th>\n      <th>birth_state</th>\n    </tr>\n  </thead>\n  <tbody>\n    <tr>\n      <th>3491</th>\n      <td>3491</td>\n      <td>Kawhi Leonard</td>\n      <td>201.0</td>\n      <td>104.0</td>\n      <td>San Diego State University</td>\n      <td>1991.0</td>\n      <td>Los Angeles</td>\n      <td>California</td>\n    </tr>\n  </tbody>\n</table>\n</div>"
     },
     "metadata": {},
     "execution_count": 130
    }
   ],
   "source": [
    "# Find Kawhi Leonard in our dataframe using a boolean mask\n",
    "df[df['Player'].str.contains('Kawhi', case=False, na=False)]"
   ]
  },
  {
   "cell_type": "code",
   "execution_count": 131,
   "metadata": {},
   "outputs": [],
   "source": [
    "# Modify pandas column header to fix collage to college. Also, replace blank column with ID.\n",
    "df.rename(columns={'Unnamed: 0': 'ID', 'collage': 'College'}, inplace=True)"
   ]
  },
  {
   "cell_type": "code",
   "execution_count": 132,
   "metadata": {},
   "outputs": [
    {
     "output_type": "execute_result",
     "data": {
      "text/plain": [
       "        ID           Player  height  weight                     College  \\\n",
       "1064  1064  Stan Washington   193.0    86.0     University of San Diego   \n",
       "1314  1314      Joel Kramer   201.0    92.0  San Diego State University   \n",
       "1376  1376    Steve Malovic   208.0   104.0  San Diego State University   \n",
       "1657  1657     Michael Cage   206.0   101.0  San Diego State University   \n",
       "3077  3077    Randy Holcomb   206.0   102.0  San Diego State University   \n",
       "3491  3491    Kawhi Leonard   201.0   104.0  San Diego State University   \n",
       "3517  3517   Malcolm Thomas   206.0   102.0  San Diego State University   \n",
       "3635  3635  Jamaal Franklin   196.0    86.0  San Diego State University   \n",
       "\n",
       "        born     birth_city           birth_state  \n",
       "1064  1952.0     Washington  District of Columbia  \n",
       "1314  1955.0      San Diego            California  \n",
       "1376  1956.0      Cleveland                  Ohio  \n",
       "1657  1962.0   West Memphis              Arkansas  \n",
       "3077  1979.0        Chicago              Illinois  \n",
       "3491  1991.0    Los Angeles            California  \n",
       "3517  1988.0       Columbia              Missouri  \n",
       "3635  1991.0  Moreno Valley            California  "
      ],
      "text/html": "<div>\n<style scoped>\n    .dataframe tbody tr th:only-of-type {\n        vertical-align: middle;\n    }\n\n    .dataframe tbody tr th {\n        vertical-align: top;\n    }\n\n    .dataframe thead th {\n        text-align: right;\n    }\n</style>\n<table border=\"1\" class=\"dataframe\">\n  <thead>\n    <tr style=\"text-align: right;\">\n      <th></th>\n      <th>ID</th>\n      <th>Player</th>\n      <th>height</th>\n      <th>weight</th>\n      <th>College</th>\n      <th>born</th>\n      <th>birth_city</th>\n      <th>birth_state</th>\n    </tr>\n  </thead>\n  <tbody>\n    <tr>\n      <th>1064</th>\n      <td>1064</td>\n      <td>Stan Washington</td>\n      <td>193.0</td>\n      <td>86.0</td>\n      <td>University of San Diego</td>\n      <td>1952.0</td>\n      <td>Washington</td>\n      <td>District of Columbia</td>\n    </tr>\n    <tr>\n      <th>1314</th>\n      <td>1314</td>\n      <td>Joel Kramer</td>\n      <td>201.0</td>\n      <td>92.0</td>\n      <td>San Diego State University</td>\n      <td>1955.0</td>\n      <td>San Diego</td>\n      <td>California</td>\n    </tr>\n    <tr>\n      <th>1376</th>\n      <td>1376</td>\n      <td>Steve Malovic</td>\n      <td>208.0</td>\n      <td>104.0</td>\n      <td>San Diego State University</td>\n      <td>1956.0</td>\n      <td>Cleveland</td>\n      <td>Ohio</td>\n    </tr>\n    <tr>\n      <th>1657</th>\n      <td>1657</td>\n      <td>Michael Cage</td>\n      <td>206.0</td>\n      <td>101.0</td>\n      <td>San Diego State University</td>\n      <td>1962.0</td>\n      <td>West Memphis</td>\n      <td>Arkansas</td>\n    </tr>\n    <tr>\n      <th>3077</th>\n      <td>3077</td>\n      <td>Randy Holcomb</td>\n      <td>206.0</td>\n      <td>102.0</td>\n      <td>San Diego State University</td>\n      <td>1979.0</td>\n      <td>Chicago</td>\n      <td>Illinois</td>\n    </tr>\n    <tr>\n      <th>3491</th>\n      <td>3491</td>\n      <td>Kawhi Leonard</td>\n      <td>201.0</td>\n      <td>104.0</td>\n      <td>San Diego State University</td>\n      <td>1991.0</td>\n      <td>Los Angeles</td>\n      <td>California</td>\n    </tr>\n    <tr>\n      <th>3517</th>\n      <td>3517</td>\n      <td>Malcolm Thomas</td>\n      <td>206.0</td>\n      <td>102.0</td>\n      <td>San Diego State University</td>\n      <td>1988.0</td>\n      <td>Columbia</td>\n      <td>Missouri</td>\n    </tr>\n    <tr>\n      <th>3635</th>\n      <td>3635</td>\n      <td>Jamaal Franklin</td>\n      <td>196.0</td>\n      <td>86.0</td>\n      <td>San Diego State University</td>\n      <td>1991.0</td>\n      <td>Moreno Valley</td>\n      <td>California</td>\n    </tr>\n  </tbody>\n</table>\n</div>"
     },
     "metadata": {},
     "execution_count": 132
    }
   ],
   "source": [
    "# Find number of NBA players from San Diego State University\n",
    "df[df['College'].str.contains('San Diego', case=False, na=False)]\n"
   ]
  },
  {
   "cell_type": "code",
   "execution_count": 133,
   "metadata": {},
   "outputs": [
    {
     "output_type": "stream",
     "name": "stdout",
     "text": [
      "Number of NBA players from SDSU = 8\n"
     ]
    }
   ],
   "source": [
    "print(\"Number of NBA players from SDSU = \" + str(len(df[df['College'].str.contains('San Diego', case=False, na=False)])))"
   ]
  },
  {
   "source": [
    "### What is the most common first name for all NBA players? What is the most common last name?"
   ],
   "cell_type": "markdown",
   "metadata": {}
  },
  {
   "cell_type": "code",
   "execution_count": 134,
   "metadata": {},
   "outputs": [
    {
     "output_type": "stream",
     "name": "stdout",
     "text": [
      "   ID           Player  height  weight                          College  \\\n0   0  Curly Armstrong   180.0    77.0               Indiana University   \n1   1     Cliff Barker   188.0    83.0           University of Kentucky   \n2   2    Leo Barnhorst   193.0    86.0         University of Notre Dame   \n3   3       Ed Bartels   196.0    88.0  North Carolina State University   \n4   4      Ralph Beard   178.0    79.0           University of Kentucky   \n\n     born   birth_city birth_state  First       Last  \n0  1918.0          NaN         NaN  Curly  Armstrong  \n1  1921.0     Yorktown     Indiana  Cliff     Barker  \n2  1924.0          NaN         NaN    Leo  Barnhorst  \n3  1925.0          NaN         NaN     Ed    Bartels  \n4  1927.0  Hardinsburg    Kentucky  Ralph      Beard  \n"
     ]
    }
   ],
   "source": [
    "# To do this, we need to first split the Player column into two seperate columns.\n",
    "\n",
    "df_names = df.copy()\n",
    "df_names[['First','Last']] = df[\"Player\"].str.split(\" \", 1, expand=True)\n",
    "print(df_names.head())"
   ]
  },
  {
   "source": [
    "### Next let's use mode function to find most frequent name!"
   ],
   "cell_type": "markdown",
   "metadata": {}
  },
  {
   "cell_type": "code",
   "execution_count": 135,
   "metadata": {},
   "outputs": [
    {
     "output_type": "stream",
     "name": "stdout",
     "text": [
      "0    Most frequent first name =  John\ndtype: object\n0    Most frequent last name =  Williams\ndtype: object\n"
     ]
    }
   ],
   "source": [
    "print(\"Most frequent first name =  \" + df_names.First.mode())\n",
    "print(\"Most frequent last name =  \" + df_names.Last.mode())"
   ]
  },
  {
   "source": [
    "### For fun, let's see how many \"John\" and how many \"Williams\" we have in our dataset"
   ],
   "cell_type": "markdown",
   "metadata": {}
  },
  {
   "cell_type": "code",
   "execution_count": 136,
   "metadata": {},
   "outputs": [
    {
     "output_type": "execute_result",
     "data": {
      "text/plain": [
       "        ID        Player  height  weight                        College  \\\n",
       "27      27   John Chaney   190.0    83.0     Louisiana State University   \n",
       "75      75   John Hargis   188.0    81.0  University of Texas at Austin   \n",
       "112    112    John Logan   188.0    79.0             Indiana University   \n",
       "116    116  John Mahnken   203.0    99.0          Georgetown University   \n",
       "117    117   John Mandic   193.0    92.0        Oregon State University   \n",
       "...    ...           ...     ...     ...                            ...   \n",
       "2891  2891  John Salmons   201.0    95.0            University of Miami   \n",
       "2993  2993  John Edwards   213.0   124.0          Kent State University   \n",
       "3449  3449     John Wall   193.0    88.0         University of Kentucky   \n",
       "3554  3554   John Henson   211.0   103.0   University of North Carolina   \n",
       "3557  3557  John Jenkins   193.0    97.0          Vanderbilt University   \n",
       "\n",
       "        born    birth_city     birth_state  \n",
       "27    1920.0           NaN             NaN  \n",
       "75    1920.0   Nacogdoches           Texas  \n",
       "112   1921.0      Richmond         Indiana  \n",
       "116   1922.0    New Jersey      New Jersey  \n",
       "117   1919.0   Los Angeles      California  \n",
       "...      ...           ...             ...  \n",
       "2891  1979.0  Philadelphia    Pennsylvania  \n",
       "2993  1981.0        Warren            Ohio  \n",
       "3449  1990.0       Raleigh  North Carolina  \n",
       "3554  1990.0    Greensboro  North Carolina  \n",
       "3557  1991.0     Nashville       Tennessee  \n",
       "\n",
       "[75 rows x 8 columns]"
      ],
      "text/html": "<div>\n<style scoped>\n    .dataframe tbody tr th:only-of-type {\n        vertical-align: middle;\n    }\n\n    .dataframe tbody tr th {\n        vertical-align: top;\n    }\n\n    .dataframe thead th {\n        text-align: right;\n    }\n</style>\n<table border=\"1\" class=\"dataframe\">\n  <thead>\n    <tr style=\"text-align: right;\">\n      <th></th>\n      <th>ID</th>\n      <th>Player</th>\n      <th>height</th>\n      <th>weight</th>\n      <th>College</th>\n      <th>born</th>\n      <th>birth_city</th>\n      <th>birth_state</th>\n    </tr>\n  </thead>\n  <tbody>\n    <tr>\n      <th>27</th>\n      <td>27</td>\n      <td>John Chaney</td>\n      <td>190.0</td>\n      <td>83.0</td>\n      <td>Louisiana State University</td>\n      <td>1920.0</td>\n      <td>NaN</td>\n      <td>NaN</td>\n    </tr>\n    <tr>\n      <th>75</th>\n      <td>75</td>\n      <td>John Hargis</td>\n      <td>188.0</td>\n      <td>81.0</td>\n      <td>University of Texas at Austin</td>\n      <td>1920.0</td>\n      <td>Nacogdoches</td>\n      <td>Texas</td>\n    </tr>\n    <tr>\n      <th>112</th>\n      <td>112</td>\n      <td>John Logan</td>\n      <td>188.0</td>\n      <td>79.0</td>\n      <td>Indiana University</td>\n      <td>1921.0</td>\n      <td>Richmond</td>\n      <td>Indiana</td>\n    </tr>\n    <tr>\n      <th>116</th>\n      <td>116</td>\n      <td>John Mahnken</td>\n      <td>203.0</td>\n      <td>99.0</td>\n      <td>Georgetown University</td>\n      <td>1922.0</td>\n      <td>New Jersey</td>\n      <td>New Jersey</td>\n    </tr>\n    <tr>\n      <th>117</th>\n      <td>117</td>\n      <td>John Mandic</td>\n      <td>193.0</td>\n      <td>92.0</td>\n      <td>Oregon State University</td>\n      <td>1919.0</td>\n      <td>Los Angeles</td>\n      <td>California</td>\n    </tr>\n    <tr>\n      <th>...</th>\n      <td>...</td>\n      <td>...</td>\n      <td>...</td>\n      <td>...</td>\n      <td>...</td>\n      <td>...</td>\n      <td>...</td>\n      <td>...</td>\n    </tr>\n    <tr>\n      <th>2891</th>\n      <td>2891</td>\n      <td>John Salmons</td>\n      <td>201.0</td>\n      <td>95.0</td>\n      <td>University of Miami</td>\n      <td>1979.0</td>\n      <td>Philadelphia</td>\n      <td>Pennsylvania</td>\n    </tr>\n    <tr>\n      <th>2993</th>\n      <td>2993</td>\n      <td>John Edwards</td>\n      <td>213.0</td>\n      <td>124.0</td>\n      <td>Kent State University</td>\n      <td>1981.0</td>\n      <td>Warren</td>\n      <td>Ohio</td>\n    </tr>\n    <tr>\n      <th>3449</th>\n      <td>3449</td>\n      <td>John Wall</td>\n      <td>193.0</td>\n      <td>88.0</td>\n      <td>University of Kentucky</td>\n      <td>1990.0</td>\n      <td>Raleigh</td>\n      <td>North Carolina</td>\n    </tr>\n    <tr>\n      <th>3554</th>\n      <td>3554</td>\n      <td>John Henson</td>\n      <td>211.0</td>\n      <td>103.0</td>\n      <td>University of North Carolina</td>\n      <td>1990.0</td>\n      <td>Greensboro</td>\n      <td>North Carolina</td>\n    </tr>\n    <tr>\n      <th>3557</th>\n      <td>3557</td>\n      <td>John Jenkins</td>\n      <td>193.0</td>\n      <td>97.0</td>\n      <td>Vanderbilt University</td>\n      <td>1991.0</td>\n      <td>Nashville</td>\n      <td>Tennessee</td>\n    </tr>\n  </tbody>\n</table>\n<p>75 rows × 8 columns</p>\n</div>"
     },
     "metadata": {},
     "execution_count": 136
    }
   ],
   "source": [
    "df[df['Player'].str.match('John ', case=False, na=False)]"
   ]
  },
  {
   "cell_type": "code",
   "execution_count": 137,
   "metadata": {},
   "outputs": [
    {
     "output_type": "execute_result",
     "data": {
      "text/plain": [
       "        ID            Player  height  weight  \\\n",
       "417    417      Bob Williams   198.0   104.0   \n",
       "744    744      Art Williams   185.0    81.0   \n",
       "786    786    Cliff Williams   190.0    81.0   \n",
       "787    787      Ron Williams   190.0    85.0   \n",
       "788    788      Sam Williams   190.0    81.0   \n",
       "...    ...               ...     ...     ...   \n",
       "3527  3527  Derrick Williams   190.0    90.0   \n",
       "3528  3528   Elliot Williams   196.0    86.0   \n",
       "3529  3529   Jordan Williams   188.0    83.0   \n",
       "3828  3828     Alan Williams   198.0    90.0   \n",
       "3917  3917     Troy Williams   198.0    97.0   \n",
       "\n",
       "                                              College    born   birth_city  \\\n",
       "417    Florida Agricultural and Mechanical University  1931.0          NaN   \n",
       "744   California State Polytechnic University, Pomona  1939.0       Bonham   \n",
       "786                    Bowling Green State University  1945.0          NaN   \n",
       "787                          West Virginia University  1944.0      Weirton   \n",
       "788                                University of Iowa  1945.0          NaN   \n",
       "...                                               ...     ...          ...   \n",
       "3527       University of Illinois at Urbana-Champaign  1984.0  Parkersburg   \n",
       "3528                            University of Memphis  1989.0      Memphis   \n",
       "3529                      New Mexico State University  1951.0    New Haven   \n",
       "3828                                 Drake University  1948.0          NaN   \n",
       "3917                  South Carolina State University  1969.0     Columbia   \n",
       "\n",
       "         birth_state  \n",
       "417              NaN  \n",
       "744            Texas  \n",
       "786              NaN  \n",
       "787    West Virginia  \n",
       "788              NaN  \n",
       "...              ...  \n",
       "3527   West Virginia  \n",
       "3528       Tennessee  \n",
       "3529     Connecticut  \n",
       "3828             NaN  \n",
       "3917  South Carolina  \n",
       "\n",
       "[63 rows x 8 columns]"
      ],
      "text/html": "<div>\n<style scoped>\n    .dataframe tbody tr th:only-of-type {\n        vertical-align: middle;\n    }\n\n    .dataframe tbody tr th {\n        vertical-align: top;\n    }\n\n    .dataframe thead th {\n        text-align: right;\n    }\n</style>\n<table border=\"1\" class=\"dataframe\">\n  <thead>\n    <tr style=\"text-align: right;\">\n      <th></th>\n      <th>ID</th>\n      <th>Player</th>\n      <th>height</th>\n      <th>weight</th>\n      <th>College</th>\n      <th>born</th>\n      <th>birth_city</th>\n      <th>birth_state</th>\n    </tr>\n  </thead>\n  <tbody>\n    <tr>\n      <th>417</th>\n      <td>417</td>\n      <td>Bob Williams</td>\n      <td>198.0</td>\n      <td>104.0</td>\n      <td>Florida Agricultural and Mechanical University</td>\n      <td>1931.0</td>\n      <td>NaN</td>\n      <td>NaN</td>\n    </tr>\n    <tr>\n      <th>744</th>\n      <td>744</td>\n      <td>Art Williams</td>\n      <td>185.0</td>\n      <td>81.0</td>\n      <td>California State Polytechnic University, Pomona</td>\n      <td>1939.0</td>\n      <td>Bonham</td>\n      <td>Texas</td>\n    </tr>\n    <tr>\n      <th>786</th>\n      <td>786</td>\n      <td>Cliff Williams</td>\n      <td>190.0</td>\n      <td>81.0</td>\n      <td>Bowling Green State University</td>\n      <td>1945.0</td>\n      <td>NaN</td>\n      <td>NaN</td>\n    </tr>\n    <tr>\n      <th>787</th>\n      <td>787</td>\n      <td>Ron Williams</td>\n      <td>190.0</td>\n      <td>85.0</td>\n      <td>West Virginia University</td>\n      <td>1944.0</td>\n      <td>Weirton</td>\n      <td>West Virginia</td>\n    </tr>\n    <tr>\n      <th>788</th>\n      <td>788</td>\n      <td>Sam Williams</td>\n      <td>190.0</td>\n      <td>81.0</td>\n      <td>University of Iowa</td>\n      <td>1945.0</td>\n      <td>NaN</td>\n      <td>NaN</td>\n    </tr>\n    <tr>\n      <th>...</th>\n      <td>...</td>\n      <td>...</td>\n      <td>...</td>\n      <td>...</td>\n      <td>...</td>\n      <td>...</td>\n      <td>...</td>\n      <td>...</td>\n    </tr>\n    <tr>\n      <th>3527</th>\n      <td>3527</td>\n      <td>Derrick Williams</td>\n      <td>190.0</td>\n      <td>90.0</td>\n      <td>University of Illinois at Urbana-Champaign</td>\n      <td>1984.0</td>\n      <td>Parkersburg</td>\n      <td>West Virginia</td>\n    </tr>\n    <tr>\n      <th>3528</th>\n      <td>3528</td>\n      <td>Elliot Williams</td>\n      <td>196.0</td>\n      <td>86.0</td>\n      <td>University of Memphis</td>\n      <td>1989.0</td>\n      <td>Memphis</td>\n      <td>Tennessee</td>\n    </tr>\n    <tr>\n      <th>3529</th>\n      <td>3529</td>\n      <td>Jordan Williams</td>\n      <td>188.0</td>\n      <td>83.0</td>\n      <td>New Mexico State University</td>\n      <td>1951.0</td>\n      <td>New Haven</td>\n      <td>Connecticut</td>\n    </tr>\n    <tr>\n      <th>3828</th>\n      <td>3828</td>\n      <td>Alan Williams</td>\n      <td>198.0</td>\n      <td>90.0</td>\n      <td>Drake University</td>\n      <td>1948.0</td>\n      <td>NaN</td>\n      <td>NaN</td>\n    </tr>\n    <tr>\n      <th>3917</th>\n      <td>3917</td>\n      <td>Troy Williams</td>\n      <td>198.0</td>\n      <td>97.0</td>\n      <td>South Carolina State University</td>\n      <td>1969.0</td>\n      <td>Columbia</td>\n      <td>South Carolina</td>\n    </tr>\n  </tbody>\n</table>\n<p>63 rows × 8 columns</p>\n</div>"
     },
     "metadata": {},
     "execution_count": 137
    }
   ],
   "source": [
    "df[df['Player'].str.contains(' Williams', case=False, na=False)]"
   ]
  },
  {
   "source": [
    "## Task 1: Create a word cloud in the shape of the NBA logo (https://www.datacamp.com/community/tutorials/wordcloud-python)"
   ],
   "cell_type": "markdown",
   "metadata": {}
  },
  {
   "cell_type": "code",
   "execution_count": 138,
   "metadata": {},
   "outputs": [],
   "source": [
    "# Use kobe_bryant.png by loading raw image from github. This will be the silhouette of word cloud.\n",
    "\n",
    "\n"
   ]
  },
  {
   "source": [
    "## Task 2: Use geocoding within geopandas to plot locations to a world map (https://geopandas.org/geocoding.html)"
   ],
   "cell_type": "markdown",
   "metadata": {}
  },
  {
   "cell_type": "code",
   "execution_count": 139,
   "metadata": {},
   "outputs": [],
   "source": [
    "# using geopandas and geolocations"
   ]
  },
  {
   "cell_type": "code",
   "execution_count": null,
   "metadata": {},
   "outputs": [],
   "source": []
  },
  {
   "source": [
    "## Task 3: Analyze player height (cm) and player weight (kg). Are players taller than they were in the past?"
   ],
   "cell_type": "markdown",
   "metadata": {}
  },
  {
   "cell_type": "code",
   "execution_count": 140,
   "metadata": {},
   "outputs": [],
   "source": [
    "# Task 3A: Create violin plots of the two columns.\n",
    "\n"
   ]
  },
  {
   "cell_type": "code",
   "execution_count": 141,
   "metadata": {},
   "outputs": [],
   "source": [
    "# Task 3B: Is there any relationship between the year player was born and player height? (are NBA players getting taller)\n",
    "# Group players by year born and create boxplots, with years on x-axis and height on y-axis.\n"
   ]
  },
  {
   "cell_type": "code",
   "execution_count": null,
   "metadata": {},
   "outputs": [],
   "source": []
  },
  {
   "cell_type": "code",
   "execution_count": null,
   "metadata": {},
   "outputs": [],
   "source": []
  },
  {
   "cell_type": "code",
   "execution_count": null,
   "metadata": {},
   "outputs": [],
   "source": []
  }
 ]
}