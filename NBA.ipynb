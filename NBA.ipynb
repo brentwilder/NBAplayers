{
 "metadata": {
  "language_info": {
   "codemirror_mode": {
    "name": "ipython",
    "version": 3
   },
   "file_extension": ".py",
   "mimetype": "text/x-python",
   "name": "python",
   "nbconvert_exporter": "python",
   "pygments_lexer": "ipython3",
   "version": "3.7.6-final"
  },
  "orig_nbformat": 2,
  "kernelspec": {
   "name": "Python 3.7.6 64-bit ('base': conda)",
   "display_name": "Python 3.7.6 64-bit ('base': conda)",
   "metadata": {
    "interpreter": {
     "hash": "68f43b21962ca07ddab01fd3e10a215848fbf81c84653e1392a31aa0d821b77a"
    }
   }
  }
 },
 "nbformat": 4,
 "nbformat_minor": 2,
 "cells": [
  {
   "source": [
    "# Python Script for NBA Players data\n",
    "### Alexander Williamson and Brenton Wilder\n",
    "### Fall Semester 2020"
   ],
   "cell_type": "markdown",
   "metadata": {}
  },
  {
   "cell_type": "code",
   "execution_count": 1,
   "metadata": {},
   "outputs": [
    {
     "output_type": "stream",
     "name": "stdout",
     "text": [
      "   Unnamed: 0           Player  height  weight  \\\n0           0  Curly Armstrong   180.0    77.0   \n1           1     Cliff Barker   188.0    83.0   \n2           2    Leo Barnhorst   193.0    86.0   \n3           3       Ed Bartels   196.0    88.0   \n4           4      Ralph Beard   178.0    79.0   \n\n                           collage    born   birth_city birth_state  \n0               Indiana University  1918.0          NaN         NaN  \n1           University of Kentucky  1921.0     Yorktown     Indiana  \n2         University of Notre Dame  1924.0          NaN         NaN  \n3  North Carolina State University  1925.0          NaN         NaN  \n4           University of Kentucky  1927.0  Hardinsburg    Kentucky  \n"
     ]
    }
   ],
   "source": [
    "# Load the dataset directly from repository\n",
    "import pandas as pd\n",
    "\n",
    "url = 'https://github.com/bwilder95/NBAplayers/blob/main/Players.csv?raw=true'\n",
    "df = pd.read_csv(url,sep=',')\n",
    "print(df.head())"
   ]
  },
  {
   "cell_type": "code",
   "execution_count": 2,
   "metadata": {},
   "outputs": [
    {
     "output_type": "execute_result",
     "data": {
      "text/plain": [
       "(3922, 8)"
      ]
     },
     "metadata": {},
     "execution_count": 2
    }
   ],
   "source": [
    "# Confirm shape of dataset is correct (3922 rows and 8 columns)\n",
    "\"\"\"\n",
    "Column 1 (index 0) is unamed\n",
    "Column 2 (index 1) is Player\n",
    "Column 3 (index 2) is collage\n",
    "Column 4 (index 3) is height\n",
    "Column 5 (index 4) is weight\n",
    "Column 6 (index 5) is born\n",
    "Column 7 (index 6) is birth_city\n",
    "Column 8 (index 7) is birth_state\n",
    "\"\"\"\n",
    "df.shape"
   ]
  },
  {
   "cell_type": "code",
   "execution_count": 14,
   "metadata": {},
   "outputs": [],
   "source": [
    "# Task 1: Modify pandas column header to fix collage to college. Also, replace blank column with ID.\n",
    "df.rename(columns={'Unnamed: 0': 'ID', 'collage': 'college'}, inplace=True)"
   ]
  },
  {
   "cell_type": "code",
   "execution_count": null,
   "metadata": {},
   "outputs": [],
   "source": []
  }
 ]
}